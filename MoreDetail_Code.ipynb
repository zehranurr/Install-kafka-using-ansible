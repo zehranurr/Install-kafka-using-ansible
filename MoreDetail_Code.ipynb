{
 "cells": [
  {
   "cell_type": "markdown",
   "metadata": {},
   "source": [
    "## Kafka_Setup Detail "
   ]
  },
  {
   "cell_type": "code",
   "execution_count": null,
   "metadata": {
    "vscode": {
     "languageId": "plaintext"
    }
   },
   "outputs": [],
   "source": [
    "---\n",
    "- name: Setup Kafka and Zookeeper\n",
    "  hosts: ubuntu_containers\n",
    "  become: yes\n",
    "  tasks:\n"
   ]
  },
  {
   "cell_type": "markdown",
   "metadata": {},
   "source": [
    "- name: Playbook’a genel bir ad verir. Bu playbook, Kafka ve Zookeeper’ı kurup yapılandırmak için yazılmıştır.\n",
    "- hosts: İşlem yapılacak sunucu grubunu belirtir. ubuntu_containers adlı gruptaki sunucular üzerinde işlem yapılacaktır.\n",
    "- become: yes değeriyle çalıştırılarak root yetkisi (sudo) kullanılır; çünkü Kafka ve Zookeeper kurulumu için yönetici yetkisi gereklidir.\n",
    "- tasks: Playbook’un içinde yapılacak işlemleri listeleyen anahtar kelimedir."
   ]
  },
  {
   "cell_type": "code",
   "execution_count": null,
   "metadata": {
    "vscode": {
     "languageId": "plaintext"
    }
   },
   "outputs": [],
   "source": [
    "Java Kurulumu\n",
    "- name: Install Java\n",
    "  apt:\n",
    "    name: openjdk-11-jdk\n",
    "    state: present\n"
   ]
  },
  {
   "cell_type": "markdown",
   "metadata": {},
   "source": [
    "- apt: Ubuntu (veya Debian) tabanlı sistemlerde paketleri yönetmek için kullanılan modüldür.\n",
    "- name: Yüklenecek paketin adı, burada openjdk-11-jdk yani Java 11 paketidir.\n",
    "- state: Paketin durumu. present değeri, paketin mevcut olup olmadığını kontrol eder, yüklü değilse yükler."
   ]
  },
  {
   "cell_type": "code",
   "execution_count": null,
   "metadata": {
    "vscode": {
     "languageId": "plaintext"
    }
   },
   "outputs": [],
   "source": [
    "Kafka İndirme\n",
    "yaml\n",
    "Copy code\n",
    "- name: Download Kafka\n",
    "  get_url:\n",
    "    url: https://archive.apache.org/dist/kafka/3.2.1/kafka_2.13-3.2.1.tgz\n",
    "    dest: /tmp/kafka.tgz"
   ]
  },
  {
   "cell_type": "markdown",
   "metadata": {},
   "source": [
    "- get_url: Belirtilen URL’den dosya indirmek için kullanılır.\n",
    "- url: İndirilecek dosyanın adresi, burada Kafka’nın Apache arşivindeki konumu.\n",
    "- dest: Dosyanın indirileceği konum, /tmp/kafka.tgz."
   ]
  },
  {
   "cell_type": "code",
   "execution_count": null,
   "metadata": {
    "vscode": {
     "languageId": "plaintext"
    }
   },
   "outputs": [],
   "source": [
    "Kafka Dosyalarını Çıkartma\n",
    "yaml\n",
    "Copy code\n",
    "- name: Extract Kafka\n",
    "  unarchive:\n",
    "    src: /tmp/kafka.tgz\n",
    "    dest: /opt/\n",
    "    remote_src: yes"
   ]
  },
  {
   "cell_type": "markdown",
   "metadata": {},
   "source": [
    "- unarchive: Sıkıştırılmış bir dosyayı çıkartmak için kullanılır.\n",
    "- src: Çıkartılacak dosyanın konumu, /tmp/kafka.tgz.\n",
    "- dest: Çıkartılacak hedef dizin, /opt/.\n",
    "- remote_src: yes değeri, dosyanın sunucuda halihazırda bulunduğunu belirtir, yani dosya uzaktan kopyalanmaz."
   ]
  },
  {
   "cell_type": "code",
   "execution_count": null,
   "metadata": {
    "vscode": {
     "languageId": "plaintext"
    }
   },
   "outputs": [],
   "source": [
    "Kafka İçin Sembolik Bağlantı Oluşturma\n",
    "yaml\n",
    "Copy code\n",
    "- name: Create symlink for Kafka\n",
    "  file:\n",
    "    src: /opt/kafka_2.13-3.2.1\n",
    "    dest: /opt/kafka\n",
    "    state: link"
   ]
  },
  {
   "cell_type": "markdown",
   "metadata": {},
   "source": [
    "- file: Dosya ve dizin yönetimi için kullanılır, burada bir sembolik bağlantı oluşturulur.\n",
    "- src: Sembolik bağlantının hedefi, kafka_2.13-3.2.1 klasörü.\n",
    "- dest: Sembolik bağlantının konumu ve adı, /opt/kafka.\n",
    "- state: link değeri, sembolik bağlantı oluşturulacağını belirtir."
   ]
  },
  {
   "cell_type": "code",
   "execution_count": null,
   "metadata": {
    "vscode": {
     "languageId": "plaintext"
    }
   },
   "outputs": [],
   "source": [
    " Kafka Kullanıcısı ve Grubu Oluşturma\n",
    "yaml\n",
    "Copy code\n",
    "- name: Create kafka user and group\n",
    "  ansible.builtin.user:\n",
    "    name: kafka\n",
    "    comment: Kafka User\n",
    "    create_home: no\n",
    "    shell: /bin/false"
   ]
  },
  {
   "cell_type": "markdown",
   "metadata": {},
   "source": [
    "- user: Kullanıcı yönetimi için kullanılır.\n",
    "- name: Kullanıcı adı, burada kafka.\n",
    "- comment: Kullanıcı hakkında bir açıklama, \"Kafka User\".\n",
    "- create_home: no değeri, ev dizini oluşturulmayacağını belirtir.\n",
    "- shell: Kullanıcının kabuk erişimi yok, bin/false olarak ayarlandı."
   ]
  },
  {
   "cell_type": "code",
   "execution_count": null,
   "metadata": {
    "vscode": {
     "languageId": "plaintext"
    }
   },
   "outputs": [],
   "source": [
    "Zookeeper Yapılandırma Dosyasını Kopyalama\n",
    "yaml\n",
    "Copy code\n",
    "- name: Configure Zookeeper\n",
    "  copy:\n",
    "    dest: /opt/kafka/config/zookeeper.properties\n",
    "    content: |\n",
    "      dataDir=/var/lib/zookeeper\n",
    "      clientPort=2181\n",
    "      maxClientCnxns=0\n",
    "      admin.enableServer=false"
   ]
  },
  {
   "cell_type": "markdown",
   "metadata": {},
   "source": [
    "- copy: Dosya içeriğini kopyalamak veya oluşturmak için kullanılır.\n",
    "- dest: Kopyalanacak veya oluşturulacak dosyanın konumu, burada zookeeper.properties.\n",
    "- content: Dosyanın içeriği olarak bir dizi yapılandırma ayarı verilir."
   ]
  },
  {
   "cell_type": "code",
   "execution_count": null,
   "metadata": {
    "vscode": {
     "languageId": "plaintext"
    }
   },
   "outputs": [],
   "source": [
    "Kafka Yapılandırma Dosyasını Kopyalama\n",
    "yaml\n",
    "Copy code\n",
    "- name: Configure Kafka\n",
    "  copy:\n",
    "    dest: /opt/kafka/config/server.properties\n",
    "    content: |\n",
    "      broker.id=0\n",
    "      listeners=PLAINTEXT://:9092\n",
    "      log.dirs=/var/lib/kafka\n",
    "      zookeeper.connect=localhost:2181\n",
    "      num.partitions=1\n",
    "      offsets.topic.replication.factor=1\n",
    "      transaction.state.log.replication.factor=1\n",
    "      transaction.state.log.min.isr=1\n",
    "      log.retention.hours=168\n",
    "      log.segment.bytes=1073741824\n",
    "      log.retention.check.interval.ms=300000"
   ]
  },
  {
   "cell_type": "markdown",
   "metadata": {},
   "source": [
    "- dest: Kafka yapılandırmasının saklanacağı konum.\n",
    "- content: Kafka’nın çalışması için gerekli yapılandırmaları içerir, broker ID, port, log ayarları, partition sayısı gibi ayarları tanımlar."
   ]
  },
  {
   "cell_type": "code",
   "execution_count": null,
   "metadata": {
    "vscode": {
     "languageId": "plaintext"
    }
   },
   "outputs": [],
   "source": [
    "Kafka ve Zookeeper Veri Dizinlerini Oluşturma\n",
    "yaml\n",
    "Copy code\n",
    "- name: Create Kafka data directories\n",
    "  file:\n",
    "    path: \"{{ item }}\"\n",
    "    state: directory\n",
    "    owner: kafka\n",
    "    group: kafka\n",
    "  with_items:\n",
    "    - /var/lib/zookeeper\n",
    "    - /var/lib/kafka"
   ]
  },
  {
   "cell_type": "markdown",
   "metadata": {},
   "source": [
    "- file: Dosya ve dizin oluşturmak için kullanılır.\n",
    "- path: Dosya veya dizin yolu, {{ item }} ile with_items listesinde dönecek her öğe için çalışır.\n",
    "- state: directory, belirtilen yolun bir dizin olacağını belirtir.\n",
    "- owner ve group: Dizin sahibi ve grubu kafka kullanıcısı olarak atanır."
   ]
  },
  {
   "cell_type": "code",
   "execution_count": null,
   "metadata": {
    "vscode": {
     "languageId": "plaintext"
    }
   },
   "outputs": [],
   "source": [
    " Zookeeper’ı Başlatma\n",
    "yaml\n",
    "Copy code\n",
    "- name: Start Zookeeper\n",
    "  command: /opt/kafka/bin/zookeeper-server-start.sh -daemon /opt/kafka/config/zookeeper.properties"
   ]
  },
  {
   "cell_type": "markdown",
   "metadata": {},
   "source": [
    "- command: Belirtilen komutu çalıştırır.\n",
    "- /opt/kafka/bin/zookeeper-server-start.sh -daemon /opt/kafka/config/zookeeper.properties: Zookeeper başlatma komutu. -daemon seçeneği, Zookeeper'ın arka planda çalışmasını sağlar."
   ]
  },
  {
   "cell_type": "code",
   "execution_count": null,
   "metadata": {
    "vscode": {
     "languageId": "plaintext"
    }
   },
   "outputs": [],
   "source": [
    "- name: Start Kafka\n",
    "  command: /opt/kafka/bin/kafka-server-start.sh -daemon /opt/kafka/config/server.properties\n"
   ]
  },
  {
   "cell_type": "markdown",
   "metadata": {},
   "source": [
    "-command: Kafka sunucusunu başlatmak için komut çalıştırır.\n",
    "- /opt/kafka/bin/kafka-server-start.sh -daemon /opt/kafka/config/server.properties: Kafka sunucusunu başlatır, -daemon ile arka planda çalışmasını sağlar."
   ]
  },
  {
   "cell_type": "markdown",
   "metadata": {},
   "source": [
    "## Dockerfile Detail \n"
   ]
  },
  {
   "cell_type": "markdown",
   "metadata": {
    "vscode": {
     "languageId": "plaintext"
    }
   },
   "source": [
    "Dockerfile, Ubuntu tabanlı bir Docker imajı oluşturarak içine Python ve SSH sunucusu kurmayı amaçlar."
   ]
  },
  {
   "cell_type": "code",
   "execution_count": null,
   "metadata": {
    "vscode": {
     "languageId": "plaintext"
    }
   },
   "outputs": [],
   "source": [
    "FROM ubuntu:latest\n"
   ]
  },
  {
   "cell_type": "markdown",
   "metadata": {},
   "source": [
    "FROM ubuntu\n",
    ": Docker imajının temeli olarak en güncel Ubuntu sürümünü (ubuntu:latest) kullanır. Bu, Docker imajını sıfırdan oluşturmak yerine Ubuntu'nun en son sürümünden başlatacağımız anlamına gelir."
   ]
  },
  {
   "cell_type": "code",
   "execution_count": null,
   "metadata": {
    "vscode": {
     "languageId": "plaintext"
    }
   },
   "outputs": [],
   "source": [
    "Gerekli Paketleri Kurma\n",
    "dockerfile\n",
    "Copy code\n",
    "RUN apt-get update && apt-get install -y \\\n",
    "    python3 \\\n",
    "    python3-pip \\\n",
    "    openssh-server \\\n",
    "    && apt-get clean"
   ]
  },
  {
   "cell_type": "markdown",
   "metadata": {},
   "source": [
    "- RUN apt-get update: Paket listelerini günceller, böylece kurulum işlemi sırasında en güncel paketler kullanılır.\n",
    "- && apt-get install -y: -y seçeneğiyle python3, python3-pip ve openssh-server paketlerini yükler:\n",
    "- python3: Python 3 programlama dili için gereklidir.\n",
    "- python3-pip: Python için paket yöneticisi, gerektiğinde Python modüllerini kurabilmek için kullanılır.\n",
    "- openssh-server: SSH bağlantılarını kabul edebilmek için SSH sunucusunu kurar.\n",
    "- && apt-get clean: Gereksiz dosyaları temizleyerek imaj boyutunu azaltır. Özellikle önbellek dosyaları temizlenir."
   ]
  },
  {
   "cell_type": "code",
   "execution_count": null,
   "metadata": {
    "vscode": {
     "languageId": "plaintext"
    }
   },
   "outputs": [],
   "source": [
    "SH Sunucusu İçin Gerekli Dizini Oluşturma\n",
    "\n",
    "\n",
    "Copy code\n",
    "RUN mkdir /var/run/sshd"
   ]
  },
  {
   "cell_type": "markdown",
   "metadata": {},
   "source": [
    "- RUN mkdir /var/run/sshd: SSH sunucusunun çalışması için gerekli olan /var/run/sshd dizinini oluşturur."
   ]
  },
  {
   "cell_type": "code",
   "execution_count": null,
   "metadata": {
    "vscode": {
     "languageId": "plaintext"
    }
   },
   "outputs": [],
   "source": [
    "SSH İçin Root Kullanıcı Parolasını Ayarlama\n",
    "\n",
    "\n",
    "Copy code\n",
    "RUN echo 'root:password' | chpasswd"
   ]
  },
  {
   "cell_type": "markdown",
   "metadata": {},
   "source": [
    "- RUN echo 'root\n",
    "' | chpasswd: Root kullanıcısının şifresini password olarak ayarlar. chpasswd komutu, echo ile belirtilen kullanıcı adı ve parolayı alır ve şifreyi ayarlar."
   ]
  },
  {
   "cell_type": "code",
   "execution_count": null,
   "metadata": {
    "vscode": {
     "languageId": "plaintext"
    }
   },
   "outputs": [],
   "source": [
    "RUN sed -i 's/#PermitRootLogin prohibit-password/PermitRootLogin yes/' /etc/ssh/sshd_config\n"
   ]
  },
  {
   "cell_type": "markdown",
   "metadata": {},
   "source": [
    "- RUN sed -i 's/#PermitRootLogin prohibit-password/PermitRootLogin yes/' /etc/ssh/sshd_config: PermitRootLogin ayarını yes olarak değiştirir. Bu ayar:\n",
    "- PermitRootLogin yes: Root kullanıcısının SSH üzerinden giriş yapabilmesini sağlar. Varsayılan olarak bu ayar güvenlik için kapalıdır, ancak bu Dockerfile’da açılmıştır."
   ]
  },
  {
   "cell_type": "code",
   "execution_count": null,
   "metadata": {
    "vscode": {
     "languageId": "plaintext"
    }
   },
   "outputs": [],
   "source": [
    "SSH Sunucusunu Başlatma\n",
    "dockerfile\n",
    "Copy code\n",
    "CMD [\"/usr/sbin/sshd\", \"-D\"]"
   ]
  },
  {
   "cell_type": "markdown",
   "metadata": {},
   "source": [
    "- CMD [\"/usr/sbin/sshd\", \"-D\"]: SSH sunucusunu başlatır ve -D seçeneği ile arka planda çalıştırır. CMD komutu, konteyner başlatıldığında çalıştırılacak varsayılan komut olur."
   ]
  },
  {
   "cell_type": "code",
   "execution_count": null,
   "metadata": {
    "vscode": {
     "languageId": "plaintext"
    }
   },
   "outputs": [],
   "source": [
    "SSH İçin Portu Açma\n",
    "dockerfile\n",
    "Copy code\n",
    "EXPOSE 22"
   ]
  },
  {
   "cell_type": "markdown",
   "metadata": {},
   "source": [
    "- EXPOSE 22: Konteynerın dış dünya ile 22 numaralı SSH portu üzerinden iletişim kurmasına izin verir. EXPOSE, Docker’a bu port üzerinden iletişim sağlanabileceğini bildirir ancak otomatik olarak dışa açmaz; docker run -p komutu ile dışa açılabilir."
   ]
  }
 ],
 "metadata": {
  "language_info": {
   "name": "python"
  }
 },
 "nbformat": 4,
 "nbformat_minor": 2
}
